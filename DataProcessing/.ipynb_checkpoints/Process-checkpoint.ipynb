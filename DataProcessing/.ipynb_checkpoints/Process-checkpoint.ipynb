{
 "cells": [
  {
   "cell_type": "markdown",
   "metadata": {},
   "source": [
    "# Purpose\n",
    "Run the process script over all of the data contained on the drive and save the processed files in the ProcessedData folder"
   ]
  },
  {
   "cell_type": "code",
   "execution_count": 1,
   "metadata": {},
   "outputs": [],
   "source": [
    "import pandas\n",
    "import numpy as np\n",
    "import Process\n",
    "import glob\n",
    "import matplotlib.pyplot as plt"
   ]
  },
  {
   "cell_type": "code",
   "execution_count": 10,
   "metadata": {},
   "outputs": [],
   "source": [
    "day = '1216' # The data was split into two folders for different dates; the other date is '1215'\n",
    "Drive_path = '/Volumes/Argonne2017/Argonne2017-images-data'\n",
    "Trials = glob.glob(Drive_path+'/' + day + '/*') \n",
    "EMG_fig_filepath = '/Volumes/Argonne2017/Argonne2017-images-data/Output_4.8.19/EMG_peaks_figs/'\n",
    "out_path_local = 'ProcessedData/'"
   ]
  },
  {
   "cell_type": "code",
   "execution_count": 11,
   "metadata": {},
   "outputs": [],
   "source": [
    "trials = []\n",
    "for t in Trials:\n",
    "    trial = t.split('/')[-1]\n",
    "    m_num = trial.split('_')[0]\n",
    "    t_num = trial.split('_')[1]\n",
    "    d_num = trial.split('_')[2]\n",
    "    trial = m_num + '_' + t_num + '_' + d_num\n",
    "    trials.append(trial)\n",
    "    "
   ]
  },
  {
   "cell_type": "code",
   "execution_count": 12,
   "metadata": {},
   "outputs": [
    {
     "name": "stdout",
     "output_type": "stream",
     "text": [
      "m03_t01_15\n",
      "bg import failed\n",
      "dc import failed\n",
      "failed m03_t01_15\n",
      "m03_t02_15\n",
      "here\n",
      "m04_t01_15\n",
      "here\n",
      "m04_t02_15\n",
      "here\n",
      "m04_t03_15\n",
      "here\n",
      "m05_t01_15\n",
      "here\n",
      "m05_t02_15\n",
      "dc import failed\n",
      "failed m05_t02_15\n",
      "m05_t03_15\n",
      "dc import failed\n",
      "failed m05_t03_15\n",
      "m06_t01_15\n",
      "dc import failed\n",
      "failed m06_t01_15\n",
      "m06_t02_15\n",
      "here\n",
      "m06_t03_15\n",
      "here\n",
      "m06_t04_15\n",
      "eq import failed\n",
      "dc import failed\n",
      "EMG import failed\n",
      "failed m06_t04_15\n",
      "m07_t01_15\n",
      "here\n",
      "m07_t02_15\n",
      "bg import failed\n",
      "eq import failed\n",
      "dc import failed\n",
      "failed m07_t02_15\n",
      "m07_t03_15\n",
      "here\n",
      "m07_t04_15\n",
      "eq import failed\n",
      "dc import failed\n",
      "failed m07_t04_15\n",
      "m07_t05_15\n",
      "bg import failed\n",
      "eq import failed\n",
      "dc import failed\n",
      "failed m07_t05_15\n",
      "m07_t06_15\n",
      "here\n",
      "m07_t07_15\n",
      "bg import failed\n",
      "eq import failed\n",
      "dc import failed\n",
      "failed m07_t07_15\n",
      "m07_t08_15\n",
      "here\n",
      "m08_t01_15\n",
      "bg import failed\n",
      "eq import failed\n",
      "dc import failed\n",
      "EMG import failed\n",
      "failed m08_t01_15\n",
      "m09_t01_15\n",
      "here\n",
      "m09_t02_15\n",
      "eq import failed\n",
      "failed m09_t02_15\n",
      "m09_t03_15\n",
      "dc import failed\n",
      "failed m09_t03_15\n",
      "m09_t04_15\n",
      "eq import failed\n",
      "dc import failed\n",
      "failed m09_t04_15\n"
     ]
    }
   ],
   "source": [
    "for t in trials:\n",
    "    print(t)\n",
    "    try:\n",
    "        EMG, det = Process.process(Drive_path, day, t)\n",
    "        print('here')\n",
    "        \n",
    "        # To local folder\n",
    "        EMG.to_csv(out_path_local + t + '_EMG.csv')\n",
    "        det.to_csv(out_path_local + t + '_det.csv')\n",
    "        \n",
    "    except: \n",
    "        print('failed ' + t)\n",
    "    "
   ]
  },
  {
   "cell_type": "code",
   "execution_count": 6,
   "metadata": {},
   "outputs": [
    {
     "data": {
      "text/plain": [
       "[]"
      ]
     },
     "execution_count": 6,
     "metadata": {},
     "output_type": "execute_result"
    }
   ],
   "source": []
  },
  {
   "cell_type": "code",
   "execution_count": null,
   "metadata": {},
   "outputs": [],
   "source": []
  }
 ],
 "metadata": {
  "kernelspec": {
   "display_name": "Python 3",
   "language": "python",
   "name": "python3"
  },
  "language_info": {
   "codemirror_mode": {
    "name": "ipython",
    "version": 3
   },
   "file_extension": ".py",
   "mimetype": "text/x-python",
   "name": "python",
   "nbconvert_exporter": "python",
   "pygments_lexer": "ipython3",
   "version": "3.7.1"
  }
 },
 "nbformat": 4,
 "nbformat_minor": 2
}
